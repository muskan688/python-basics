{
 "cells": [
  {
   "cell_type": "code",
   "execution_count": 1,
   "id": "dd7f07a7-0460-4744-8c29-6196f913ed26",
   "metadata": {},
   "outputs": [
    {
     "data": {
      "text/plain": [
       "123"
      ]
     },
     "execution_count": 1,
     "metadata": {},
     "output_type": "execute_result"
    }
   ],
   "source": [
    "int(123.987)"
   ]
  },
  {
   "cell_type": "code",
   "execution_count": 3,
   "id": "0b4713ae-59fb-4478-adbb-79f01dd248d4",
   "metadata": {},
   "outputs": [
    {
     "ename": "TypeError",
     "evalue": "int() argument must be a string, a bytes-like object or a real number, not 'complex'",
     "output_type": "error",
     "traceback": [
      "\u001b[1;31m---------------------------------------------------------------------------\u001b[0m",
      "\u001b[1;31mTypeError\u001b[0m                                 Traceback (most recent call last)",
      "Cell \u001b[1;32mIn[3], line 1\u001b[0m\n\u001b[1;32m----> 1\u001b[0m \u001b[38;5;28mint\u001b[39m(\u001b[38;5;241m10\u001b[39m\u001b[38;5;241m+\u001b[39m\u001b[38;5;241m5\u001b[39mj)\n",
      "\u001b[1;31mTypeError\u001b[0m: int() argument must be a string, a bytes-like object or a real number, not 'complex'"
     ]
    }
   ],
   "source": [
    "int(10+5j)"
   ]
  },
  {
   "cell_type": "code",
   "execution_count": 5,
   "id": "70b46c4a-e7b2-4427-a7e8-cd2fe51fa272",
   "metadata": {},
   "outputs": [
    {
     "data": {
      "text/plain": [
       "1"
      ]
     },
     "execution_count": 5,
     "metadata": {},
     "output_type": "execute_result"
    }
   ],
   "source": [
    "int(True)"
   ]
  },
  {
   "cell_type": "code",
   "execution_count": 7,
   "id": "398a1582-f2f7-400c-942d-7a702b1ccec6",
   "metadata": {},
   "outputs": [
    {
     "data": {
      "text/plain": [
       "0"
      ]
     },
     "execution_count": 7,
     "metadata": {},
     "output_type": "execute_result"
    }
   ],
   "source": [
    "int(False)"
   ]
  },
  {
   "cell_type": "code",
   "execution_count": 9,
   "id": "8aa1ff5c-7338-4212-9552-e537d68c18c3",
   "metadata": {},
   "outputs": [
    {
     "data": {
      "text/plain": [
       "10"
      ]
     },
     "execution_count": 9,
     "metadata": {},
     "output_type": "execute_result"
    }
   ],
   "source": [
    "int(\"10\")"
   ]
  },
  {
   "cell_type": "code",
   "execution_count": 11,
   "id": "c76f5b20-a0f7-4842-ac8d-f69b271a3c3e",
   "metadata": {},
   "outputs": [
    {
     "ename": "ValueError",
     "evalue": "invalid literal for int() with base 10: '10.5'",
     "output_type": "error",
     "traceback": [
      "\u001b[1;31m---------------------------------------------------------------------------\u001b[0m",
      "\u001b[1;31mValueError\u001b[0m                                Traceback (most recent call last)",
      "Cell \u001b[1;32mIn[11], line 1\u001b[0m\n\u001b[1;32m----> 1\u001b[0m \u001b[38;5;28mint\u001b[39m(\u001b[38;5;124m\"\u001b[39m\u001b[38;5;124m10.5\u001b[39m\u001b[38;5;124m\"\u001b[39m)\n",
      "\u001b[1;31mValueError\u001b[0m: invalid literal for int() with base 10: '10.5'"
     ]
    }
   ],
   "source": [
    "int(\"10.5\")"
   ]
  },
  {
   "cell_type": "code",
   "execution_count": 13,
   "id": "f02b83d4-7095-49ca-8b05-db240d2b4193",
   "metadata": {},
   "outputs": [
    {
     "ename": "ValueError",
     "evalue": "invalid literal for int() with base 10: 'ten'",
     "output_type": "error",
     "traceback": [
      "\u001b[1;31m---------------------------------------------------------------------------\u001b[0m",
      "\u001b[1;31mValueError\u001b[0m                                Traceback (most recent call last)",
      "Cell \u001b[1;32mIn[13], line 1\u001b[0m\n\u001b[1;32m----> 1\u001b[0m \u001b[38;5;28mint\u001b[39m(\u001b[38;5;124m\"\u001b[39m\u001b[38;5;124mten\u001b[39m\u001b[38;5;124m\"\u001b[39m)\n",
      "\u001b[1;31mValueError\u001b[0m: invalid literal for int() with base 10: 'ten'"
     ]
    }
   ],
   "source": [
    "int(\"ten\")"
   ]
  },
  {
   "cell_type": "code",
   "execution_count": 15,
   "id": "7915c7ed-ee85-4e42-b58a-497df65d2e0f",
   "metadata": {},
   "outputs": [
    {
     "ename": "ValueError",
     "evalue": "invalid literal for int() with base 10: '0B1111'",
     "output_type": "error",
     "traceback": [
      "\u001b[1;31m---------------------------------------------------------------------------\u001b[0m",
      "\u001b[1;31mValueError\u001b[0m                                Traceback (most recent call last)",
      "Cell \u001b[1;32mIn[15], line 1\u001b[0m\n\u001b[1;32m----> 1\u001b[0m \u001b[38;5;28mint\u001b[39m(\u001b[38;5;124m\"\u001b[39m\u001b[38;5;124m0B1111\u001b[39m\u001b[38;5;124m\"\u001b[39m)\n",
      "\u001b[1;31mValueError\u001b[0m: invalid literal for int() with base 10: '0B1111'"
     ]
    }
   ],
   "source": [
    "int(\"0B1111\")"
   ]
  },
  {
   "cell_type": "code",
   "execution_count": 17,
   "id": "7211e5a4-311f-472a-aeb1-b01ec61bb033",
   "metadata": {},
   "outputs": [
    {
     "data": {
      "text/plain": [
       "10.0"
      ]
     },
     "execution_count": 17,
     "metadata": {},
     "output_type": "execute_result"
    }
   ],
   "source": [
    "float(10)"
   ]
  },
  {
   "cell_type": "code",
   "execution_count": 19,
   "id": "ec5e7205-cde6-4528-9008-16a3448ea2a5",
   "metadata": {},
   "outputs": [
    {
     "ename": "TypeError",
     "evalue": "float() argument must be a string or a real number, not 'complex'",
     "output_type": "error",
     "traceback": [
      "\u001b[1;31m---------------------------------------------------------------------------\u001b[0m",
      "\u001b[1;31mTypeError\u001b[0m                                 Traceback (most recent call last)",
      "Cell \u001b[1;32mIn[19], line 1\u001b[0m\n\u001b[1;32m----> 1\u001b[0m \u001b[38;5;28mfloat\u001b[39m(\u001b[38;5;241m10\u001b[39m\u001b[38;5;241m+\u001b[39m\u001b[38;5;241m5\u001b[39mj)\n",
      "\u001b[1;31mTypeError\u001b[0m: float() argument must be a string or a real number, not 'complex'"
     ]
    }
   ],
   "source": [
    "float(10+5j)"
   ]
  },
  {
   "cell_type": "code",
   "execution_count": 21,
   "id": "ad281200-0f4c-4eca-8f50-ea00a66bb02c",
   "metadata": {},
   "outputs": [
    {
     "data": {
      "text/plain": [
       "1.0"
      ]
     },
     "execution_count": 21,
     "metadata": {},
     "output_type": "execute_result"
    }
   ],
   "source": [
    "float(True)"
   ]
  },
  {
   "cell_type": "code",
   "execution_count": 23,
   "id": "612e4380-73fb-4256-89c3-8cb30cfe3a89",
   "metadata": {},
   "outputs": [
    {
     "data": {
      "text/plain": [
       "0.0"
      ]
     },
     "execution_count": 23,
     "metadata": {},
     "output_type": "execute_result"
    }
   ],
   "source": [
    "float(False)"
   ]
  },
  {
   "cell_type": "code",
   "execution_count": 25,
   "id": "9c41c386-9bca-4748-80c1-190b5b0a2783",
   "metadata": {},
   "outputs": [
    {
     "data": {
      "text/plain": [
       "10.0"
      ]
     },
     "execution_count": 25,
     "metadata": {},
     "output_type": "execute_result"
    }
   ],
   "source": [
    "float(\"10\")"
   ]
  },
  {
   "cell_type": "code",
   "execution_count": 27,
   "id": "a30a10d7-1fa1-4e90-b581-61106b7b2bb5",
   "metadata": {},
   "outputs": [
    {
     "ename": "SyntaxError",
     "evalue": "unterminated string literal (detected at line 1) (1412586085.py, line 1)",
     "output_type": "error",
     "traceback": [
      "\u001b[1;36m  Cell \u001b[1;32mIn[27], line 1\u001b[1;36m\u001b[0m\n\u001b[1;33m    fload(\"\"ten\")\u001b[0m\n\u001b[1;37m               ^\u001b[0m\n\u001b[1;31mSyntaxError\u001b[0m\u001b[1;31m:\u001b[0m unterminated string literal (detected at line 1)\n"
     ]
    }
   ],
   "source": [
    "fload(\"\"ten\")"
   ]
  },
  {
   "cell_type": "code",
   "execution_count": 29,
   "id": "0dd2ed89-e995-416c-9176-8c40e6ad1cd3",
   "metadata": {},
   "outputs": [
    {
     "ename": "ValueError",
     "evalue": "could not convert string to float: '0B1111'",
     "output_type": "error",
     "traceback": [
      "\u001b[1;31m---------------------------------------------------------------------------\u001b[0m",
      "\u001b[1;31mValueError\u001b[0m                                Traceback (most recent call last)",
      "Cell \u001b[1;32mIn[29], line 1\u001b[0m\n\u001b[1;32m----> 1\u001b[0m \u001b[38;5;28mfloat\u001b[39m(\u001b[38;5;124m\"\u001b[39m\u001b[38;5;124m0B1111\u001b[39m\u001b[38;5;124m\"\u001b[39m)\n",
      "\u001b[1;31mValueError\u001b[0m: could not convert string to float: '0B1111'"
     ]
    }
   ],
   "source": [
    "float(\"0B1111\")"
   ]
  },
  {
   "cell_type": "code",
   "execution_count": 31,
   "id": "5b68f5d8-d01f-450c-99e1-1e86007ed48a",
   "metadata": {},
   "outputs": [
    {
     "data": {
      "text/plain": [
       "False"
      ]
     },
     "execution_count": 31,
     "metadata": {},
     "output_type": "execute_result"
    }
   ],
   "source": [
    "bool(0)"
   ]
  },
  {
   "cell_type": "code",
   "execution_count": 33,
   "id": "884ecbc8-1bb0-4757-bce7-501aea03da14",
   "metadata": {},
   "outputs": [
    {
     "data": {
      "text/plain": [
       "True"
      ]
     },
     "execution_count": 33,
     "metadata": {},
     "output_type": "execute_result"
    }
   ],
   "source": [
    "bool(10)"
   ]
  },
  {
   "cell_type": "code",
   "execution_count": 35,
   "id": "cda7e543-0c2e-4259-b27a-e2dae591bd8b",
   "metadata": {},
   "outputs": [
    {
     "data": {
      "text/plain": [
       "True"
      ]
     },
     "execution_count": 35,
     "metadata": {},
     "output_type": "execute_result"
    }
   ],
   "source": [
    "bool(10.6)"
   ]
  },
  {
   "cell_type": "code",
   "execution_count": 37,
   "id": "115cd256-5030-4cdb-8f3d-608a8195dcd2",
   "metadata": {},
   "outputs": [
    {
     "data": {
      "text/plain": [
       "True"
      ]
     },
     "execution_count": 37,
     "metadata": {},
     "output_type": "execute_result"
    }
   ],
   "source": [
    "bool(0.678)"
   ]
  },
  {
   "cell_type": "code",
   "execution_count": 39,
   "id": "d66e30a1-0383-4109-aa71-e5a4fbf69708",
   "metadata": {},
   "outputs": [
    {
     "data": {
      "text/plain": [
       "False"
      ]
     },
     "execution_count": 39,
     "metadata": {},
     "output_type": "execute_result"
    }
   ],
   "source": [
    "bool(0.0)"
   ]
  },
  {
   "cell_type": "code",
   "execution_count": 41,
   "id": "748a46dd-90af-4a1d-ae64-525d1a1d81d8",
   "metadata": {},
   "outputs": [
    {
     "data": {
      "text/plain": [
       "True"
      ]
     },
     "execution_count": 41,
     "metadata": {},
     "output_type": "execute_result"
    }
   ],
   "source": [
    "bool(10+5j)"
   ]
  },
  {
   "cell_type": "code",
   "execution_count": 45,
   "id": "ba9bd935-4bb1-48d9-827c-c9be72cb16be",
   "metadata": {},
   "outputs": [
    {
     "data": {
      "text/plain": [
       "False"
      ]
     },
     "execution_count": 45,
     "metadata": {},
     "output_type": "execute_result"
    }
   ],
   "source": [
    "bool(0+0j)"
   ]
  },
  {
   "cell_type": "code",
   "execution_count": 47,
   "id": "51d60d1b-5840-4c5b-9adf-885f3995332d",
   "metadata": {},
   "outputs": [
    {
     "data": {
      "text/plain": [
       "True"
      ]
     },
     "execution_count": 47,
     "metadata": {},
     "output_type": "execute_result"
    }
   ],
   "source": [
    "bool(\"True\")"
   ]
  },
  {
   "cell_type": "code",
   "execution_count": 51,
   "id": "1264d530-ae7a-4019-addc-6d49ceac4e8e",
   "metadata": {},
   "outputs": [
    {
     "data": {
      "text/plain": [
       "False"
      ]
     },
     "execution_count": 51,
     "metadata": {},
     "output_type": "execute_result"
    }
   ],
   "source": [
    "bool(\"\")"
   ]
  },
  {
   "cell_type": "markdown",
   "id": "db8794f1-78d2-4093-8bb2-d71d82f2c274",
   "metadata": {},
   "source": [
    "Slicing\n"
   ]
  },
  {
   "cell_type": "code",
   "execution_count": 55,
   "id": "e94d1ec2-ac47-42ac-ae83-ac26bebabe81",
   "metadata": {},
   "outputs": [
    {
     "data": {
      "text/plain": [
       "'I am a Data Scientist'"
      ]
     },
     "execution_count": 55,
     "metadata": {},
     "output_type": "execute_result"
    }
   ],
   "source": [
    "a=\"I am a Data Scientist\"\n",
    "a"
   ]
  },
  {
   "cell_type": "code",
   "execution_count": 57,
   "id": "08acce52-ebbe-4974-8330-e8d0902ddb77",
   "metadata": {},
   "outputs": [
    {
     "data": {
      "text/plain": [
       "'am'"
      ]
     },
     "execution_count": 57,
     "metadata": {},
     "output_type": "execute_result"
    }
   ],
   "source": [
    "a[2:4]"
   ]
  },
  {
   "cell_type": "code",
   "execution_count": 71,
   "id": "3207a6ea-4569-4d76-ae71-472fa0bebd69",
   "metadata": {},
   "outputs": [
    {
     "data": {
      "text/plain": [
       "'Scientist'"
      ]
     },
     "execution_count": 71,
     "metadata": {},
     "output_type": "execute_result"
    }
   ],
   "source": [
    "a[-9:]"
   ]
  },
  {
   "cell_type": "code",
   "execution_count": 75,
   "id": "376b76af-1616-457b-a388-22ffc0ea6d3f",
   "metadata": {},
   "outputs": [
    {
     "data": {
      "text/plain": [
       "[3, 4, 5, 6]"
      ]
     },
     "execution_count": 75,
     "metadata": {},
     "output_type": "execute_result"
    }
   ],
   "source": [
    "#Scling a list\n",
    "\n",
    "list=[1,2,3,4,5,6,7,8,9,10]\n",
    "\n",
    "slice_1=list[2:6]\n",
    "slice_1"
   ]
  },
  {
   "cell_type": "code",
   "execution_count": 81,
   "id": "80a4f647-d225-42a6-ad2c-95a576d28d97",
   "metadata": {},
   "outputs": [
    {
     "data": {
      "text/plain": [
       "[2, 3, 4, 5, 6, 7, 8, 9, 10]"
      ]
     },
     "execution_count": 81,
     "metadata": {},
     "output_type": "execute_result"
    }
   ],
   "source": [
    "slice_2= list[1:]\n",
    "slice_2"
   ]
  },
  {
   "cell_type": "code",
   "execution_count": 85,
   "id": "84fe4ea6-eb56-464b-b74f-52f99b83a736",
   "metadata": {},
   "outputs": [
    {
     "data": {
      "text/plain": [
       "[1, 2, 3, 4, 5]"
      ]
     },
     "execution_count": 85,
     "metadata": {},
     "output_type": "execute_result"
    }
   ],
   "source": [
    "slice_3=list[:5]\n",
    "slice_3"
   ]
  },
  {
   "cell_type": "code",
   "execution_count": 89,
   "id": "a3656ad5-e717-49b4-924a-014d6eee8867",
   "metadata": {},
   "outputs": [
    {
     "data": {
      "text/plain": [
       "[1, 4, 7, 10]"
      ]
     },
     "execution_count": 89,
     "metadata": {},
     "output_type": "execute_result"
    }
   ],
   "source": [
    "slice_4=list[::3]\n",
    "slice_4"
   ]
  },
  {
   "cell_type": "code",
   "execution_count": 91,
   "id": "09c17d14-dc7f-46c4-acc0-045274ae8383",
   "metadata": {},
   "outputs": [],
   "source": [
    "string=\"Hello World\""
   ]
  },
  {
   "cell_type": "code",
   "execution_count": 95,
   "id": "bc63e6d8-e686-4fee-bd5c-8b8d624ae479",
   "metadata": {},
   "outputs": [
    {
     "data": {
      "text/plain": [
       "'orld'"
      ]
     },
     "execution_count": 95,
     "metadata": {},
     "output_type": "execute_result"
    }
   ],
   "source": [
    "slice_5=string[7:]\n",
    "slice_5"
   ]
  },
  {
   "cell_type": "code",
   "execution_count": 97,
   "id": "bf412998-6d47-40bf-9639-195a7327f60e",
   "metadata": {},
   "outputs": [
    {
     "data": {
      "text/plain": [
       "'Hell'"
      ]
     },
     "execution_count": 97,
     "metadata": {},
     "output_type": "execute_result"
    }
   ],
   "source": [
    "slice_6= string[:4]\n",
    "slice_6"
   ]
  },
  {
   "cell_type": "code",
   "execution_count": 101,
   "id": "c1b911d0-26e1-4b53-88ce-2f70c593cc2e",
   "metadata": {},
   "outputs": [
    {
     "data": {
      "text/plain": [
       "'HlWl'"
      ]
     },
     "execution_count": 101,
     "metadata": {},
     "output_type": "execute_result"
    }
   ],
   "source": [
    "slice_7=string[::3]\n",
    "slice_7"
   ]
  },
  {
   "cell_type": "code",
   "execution_count": 105,
   "id": "7d717cfe-e796-4b83-9baa-8c2bc7730660",
   "metadata": {},
   "outputs": [
    {
     "data": {
      "text/plain": [
       "[9, 10]"
      ]
     },
     "execution_count": 105,
     "metadata": {},
     "output_type": "execute_result"
    }
   ],
   "source": [
    "#Slicing negative indices\n",
    "my_list=[1,2,3,4,5,6,7,8,9,10]\n",
    "slice_8=my_list[-2:]\n",
    "slice_8"
   ]
  },
  {
   "cell_type": "code",
   "execution_count": 109,
   "id": "3878dd9e-31bf-4e7d-81ba-1b5f63d499fe",
   "metadata": {},
   "outputs": [
    {
     "data": {
      "text/plain": [
       "[1, 2, 3, 4, 5, 6, 7]"
      ]
     },
     "execution_count": 109,
     "metadata": {},
     "output_type": "execute_result"
    }
   ],
   "source": [
    "slice_9=my_list[:-3]\n",
    "slice_9"
   ]
  },
  {
   "cell_type": "code",
   "execution_count": 113,
   "id": "e9e69235-d9f1-4786-aa1e-b8000a6792e7",
   "metadata": {},
   "outputs": [
    {
     "data": {
      "text/plain": [
       "[1, 4, 7, 10]"
      ]
     },
     "execution_count": 113,
     "metadata": {},
     "output_type": "execute_result"
    }
   ],
   "source": [
    "slice_10=my_list[::3]\n",
    "slice_10\n"
   ]
  },
  {
   "cell_type": "markdown",
   "id": "d23c0f16-d64c-4732-b6bf-a09463136560",
   "metadata": {},
   "source": [
    "MATHAMATETICS OPERATOR"
   ]
  },
  {
   "cell_type": "code",
   "execution_count": 120,
   "id": "589a5a9f-1aec-44da-b54f-20892dc17c90",
   "metadata": {},
   "outputs": [
    {
     "name": "stdout",
     "output_type": "stream",
     "text": [
      "14\n",
      "6\n",
      "40\n",
      "10000\n",
      "2.5\n",
      "2\n"
     ]
    }
   ],
   "source": [
    "print(10+4)\n",
    "print(10-4)\n",
    "print(10*4)\n",
    "print(10**4)\n",
    "print(10/4)\n",
    "print(10%4)"
   ]
  },
  {
   "cell_type": "code",
   "execution_count": 122,
   "id": "a18ea81b-f60a-41c3-8dbb-acb08771e02d",
   "metadata": {},
   "outputs": [
    {
     "name": "stdout",
     "output_type": "stream",
     "text": [
      "True\n",
      "True\n",
      "False\n",
      "True\n"
     ]
    }
   ],
   "source": [
    "#LOGICAL COMPARISON\n",
    "print(5>3)\n",
    "print(5>=3)\n",
    "print(5!=5)\n",
    "print(5==5)"
   ]
  },
  {
   "cell_type": "code",
   "execution_count": 126,
   "id": "9147fdb6-b7d2-4334-97bc-7163b8eae6ec",
   "metadata": {},
   "outputs": [
    {
     "data": {
      "text/plain": [
       "False"
      ]
     },
     "execution_count": 126,
     "metadata": {},
     "output_type": "execute_result"
    }
   ],
   "source": [
    "#EQUALITY OPERATOR\n",
    "10==20\n"
   ]
  },
  {
   "cell_type": "code",
   "execution_count": 128,
   "id": "554978f4-bb6c-4374-bbdc-c2ca4a548e83",
   "metadata": {},
   "outputs": [
    {
     "data": {
      "text/plain": [
       "True"
      ]
     },
     "execution_count": 128,
     "metadata": {},
     "output_type": "execute_result"
    }
   ],
   "source": [
    "10!=20\n"
   ]
  },
  {
   "cell_type": "code",
   "execution_count": 130,
   "id": "8850222b-cfd3-4519-83d1-c14c6c228b9c",
   "metadata": {},
   "outputs": [
    {
     "data": {
      "text/plain": [
       "False"
      ]
     },
     "execution_count": 130,
     "metadata": {},
     "output_type": "execute_result"
    }
   ],
   "source": [
    "10==True\n"
   ]
  },
  {
   "cell_type": "code",
   "execution_count": 132,
   "id": "13de660a-a5f0-47eb-ae48-abf7d9232735",
   "metadata": {},
   "outputs": [
    {
     "data": {
      "text/plain": [
       "True"
      ]
     },
     "execution_count": 132,
     "metadata": {},
     "output_type": "execute_result"
    }
   ],
   "source": [
    "\"durga\"==\"durga\"\n"
   ]
  },
  {
   "cell_type": "code",
   "execution_count": 134,
   "id": "ae252941-ce4b-4272-864f-41af9b0bc568",
   "metadata": {},
   "outputs": [
    {
     "data": {
      "text/plain": [
       "False"
      ]
     },
     "execution_count": 134,
     "metadata": {},
     "output_type": "execute_result"
    }
   ],
   "source": [
    "10==\"durga\""
   ]
  },
  {
   "cell_type": "code",
   "execution_count": 138,
   "id": "31e3d816-d62e-4365-aaad-93e6ee4b4f9b",
   "metadata": {},
   "outputs": [
    {
     "name": "stdout",
     "output_type": "stream",
     "text": [
      "Both a and b are greater than 0\n"
     ]
    }
   ],
   "source": [
    "a=10\n",
    "b=20\n",
    "if a>0 and b>0:\n",
    "    print(\"Both a and b are greater than 0\")\n",
    "    \n"
   ]
  },
  {
   "cell_type": "code",
   "execution_count": 144,
   "id": "bbaf600d-1d6c-47b2-bc83-f23b9cb998ad",
   "metadata": {},
   "outputs": [
    {
     "name": "stdout",
     "output_type": "stream",
     "text": [
      "Either a or b is greater than 0\n"
     ]
    }
   ],
   "source": [
    "a=10\n",
    "b=-5\n",
    "if a>0 or b>0:\n",
    "    print(\"Either a or b is greater than 0\")\n",
    "    "
   ]
  },
  {
   "cell_type": "code",
   "execution_count": 146,
   "id": "db924c3c-e5d9-489c-ba15-3727acac63f7",
   "metadata": {},
   "outputs": [
    {
     "name": "stdout",
     "output_type": "stream",
     "text": [
      "a is True\n"
     ]
    }
   ],
   "source": [
    "a=True\n",
    "if not a:\n",
    "    print(\"a if false\")\n",
    "else:\n",
    "    print(\"a is True\")\n",
    "    "
   ]
  },
  {
   "cell_type": "markdown",
   "id": "116fa5d5-4b10-428a-8abc-208ca7bea4a8",
   "metadata": {},
   "source": [
    "BITWISE OPERATOR"
   ]
  },
  {
   "cell_type": "code",
   "execution_count": 149,
   "id": "d4cc7ecb-beff-46f5-a442-2400fc088f6f",
   "metadata": {},
   "outputs": [
    {
     "name": "stdout",
     "output_type": "stream",
     "text": [
      "4\n"
     ]
    }
   ],
   "source": [
    "#bitwise and\n",
    "a=12\n",
    "b=7\n",
    "result= a&b\n",
    "print (result)"
   ]
  },
  {
   "cell_type": "code",
   "execution_count": 151,
   "id": "6b773b49-7ba1-4516-9e52-1f781680a541",
   "metadata": {},
   "outputs": [
    {
     "name": "stdout",
     "output_type": "stream",
     "text": [
      "15\n"
     ]
    }
   ],
   "source": [
    "#bitwise or\n",
    "a=12\n",
    "b=7\n",
    "result= a|b\n",
    "print (result)"
   ]
  },
  {
   "cell_type": "code",
   "execution_count": 153,
   "id": "775392b1-099e-4683-8ca6-955d24dffa02",
   "metadata": {},
   "outputs": [
    {
     "name": "stdout",
     "output_type": "stream",
     "text": [
      "11\n"
     ]
    }
   ],
   "source": [
    "#bitwise xor\n",
    "a=12\n",
    "b=7\n",
    "result= a^b\n",
    "print (result)"
   ]
  },
  {
   "cell_type": "code",
   "execution_count": 159,
   "id": "b7aa6d0d-2819-48e4-9289-d09576943e59",
   "metadata": {},
   "outputs": [
    {
     "name": "stdout",
     "output_type": "stream",
     "text": [
      "-13\n"
     ]
    }
   ],
   "source": [
    "#bitwise not\n",
    "a=12\n",
    "b=7\n",
    "result= ~a\n",
    "print (result)"
   ]
  },
  {
   "cell_type": "code",
   "execution_count": 161,
   "id": "08b16565-deb1-4c97-9683-e46fc38692e2",
   "metadata": {},
   "outputs": [
    {
     "name": "stdout",
     "output_type": "stream",
     "text": [
      "20\n"
     ]
    }
   ],
   "source": [
    "#left shift\n",
    "a=5\n",
    "result=a<<2\n",
    "print(result)"
   ]
  },
  {
   "cell_type": "code",
   "execution_count": 163,
   "id": "b1486065-d7ef-49a1-b17d-6fefebd946df",
   "metadata": {},
   "outputs": [
    {
     "name": "stdout",
     "output_type": "stream",
     "text": [
      "3\n"
     ]
    }
   ],
   "source": [
    "#right shift\n",
    "a=13\n",
    "result=a>>2\n",
    "print(result)"
   ]
  },
  {
   "cell_type": "code",
   "execution_count": 187,
   "id": "9429921a-2b59-4676-bb45-bb9a679ab194",
   "metadata": {},
   "outputs": [
    {
     "name": "stdout",
     "output_type": "stream",
     "text": [
      "10\n"
     ]
    }
   ],
   "source": [
    "x=10\n",
    "print(x)\n"
   ]
  },
  {
   "cell_type": "code",
   "execution_count": 189,
   "id": "09d3ef6f-fbe1-4e74-a573-ad52d53b59a9",
   "metadata": {},
   "outputs": [
    {
     "data": {
      "text/plain": [
       "15"
      ]
     },
     "execution_count": 189,
     "metadata": {},
     "output_type": "execute_result"
    }
   ],
   "source": [
    "x+=5\n",
    "x"
   ]
  },
  {
   "cell_type": "code",
   "execution_count": 191,
   "id": "22d6ce56-f41c-45d0-b5f5-cad27a0dba9f",
   "metadata": {},
   "outputs": [
    {
     "data": {
      "text/plain": [
       "12"
      ]
     },
     "execution_count": 191,
     "metadata": {},
     "output_type": "execute_result"
    }
   ],
   "source": [
    "x-=3\n",
    "x"
   ]
  },
  {
   "cell_type": "code",
   "execution_count": 193,
   "id": "4bd84e67-2c87-4e0d-ae8c-fad9c7fb9687",
   "metadata": {},
   "outputs": [
    {
     "data": {
      "text/plain": [
       "24"
      ]
     },
     "execution_count": 193,
     "metadata": {},
     "output_type": "execute_result"
    }
   ],
   "source": [
    "x*=2\n",
    "x"
   ]
  },
  {
   "cell_type": "code",
   "execution_count": 195,
   "id": "0dfe4d5b-1b14-41d1-a079-cb26746cca78",
   "metadata": {},
   "outputs": [
    {
     "name": "stdout",
     "output_type": "stream",
     "text": [
      "6.0\n"
     ]
    }
   ],
   "source": [
    "x/=4\n",
    "print(x)"
   ]
  },
  {
   "cell_type": "code",
   "execution_count": 197,
   "id": "da5c8c50-d46a-4027-ae25-5e2045b0ab05",
   "metadata": {},
   "outputs": [],
   "source": [
    "x%=3"
   ]
  },
  {
   "cell_type": "code",
   "execution_count": 199,
   "id": "e6a61464-4602-4647-9542-e08aa9079885",
   "metadata": {},
   "outputs": [
    {
     "data": {
      "text/plain": [
       "0.0"
      ]
     },
     "execution_count": 199,
     "metadata": {},
     "output_type": "execute_result"
    }
   ],
   "source": [
    "x"
   ]
  },
  {
   "cell_type": "code",
   "execution_count": 201,
   "id": "59393407-0bc7-49be-b4a0-f93508cc5582",
   "metadata": {},
   "outputs": [],
   "source": [
    "x**=2"
   ]
  },
  {
   "cell_type": "code",
   "execution_count": 203,
   "id": "8ff37849-ec43-49ea-956c-ce86d74c7100",
   "metadata": {},
   "outputs": [
    {
     "data": {
      "text/plain": [
       "0.0"
      ]
     },
     "execution_count": 203,
     "metadata": {},
     "output_type": "execute_result"
    }
   ],
   "source": [
    "x"
   ]
  },
  {
   "cell_type": "code",
   "execution_count": 205,
   "id": "a7777850-f772-4461-a8b7-e9054eaef5fc",
   "metadata": {},
   "outputs": [
    {
     "data": {
      "text/plain": [
       "0.0"
      ]
     },
     "execution_count": 205,
     "metadata": {},
     "output_type": "execute_result"
    }
   ],
   "source": [
    "x//=3\n",
    "x"
   ]
  },
  {
   "cell_type": "code",
   "execution_count": 211,
   "id": "32429dc8-3f5d-4c5e-bbab-f2c025879119",
   "metadata": {},
   "outputs": [
    {
     "name": "stdout",
     "output_type": "stream",
     "text": [
      "False\n",
      "True\n",
      "False\n"
     ]
    }
   ],
   "source": [
    "#logical opearators\n",
    "a=True\n",
    "b=False\n",
    "print(a and b)\n",
    "print(a or b)\n",
    "print(not a)"
   ]
  },
  {
   "cell_type": "code",
   "execution_count": null,
   "id": "0a98b6d5-13c5-4f75-a30c-86db2ea57694",
   "metadata": {},
   "outputs": [],
   "source": []
  }
 ],
 "metadata": {
  "kernelspec": {
   "display_name": "Python 3 (ipykernel)",
   "language": "python",
   "name": "python3"
  },
  "language_info": {
   "codemirror_mode": {
    "name": "ipython",
    "version": 3
   },
   "file_extension": ".py",
   "mimetype": "text/x-python",
   "name": "python",
   "nbconvert_exporter": "python",
   "pygments_lexer": "ipython3",
   "version": "3.12.4"
  }
 },
 "nbformat": 4,
 "nbformat_minor": 5
}
